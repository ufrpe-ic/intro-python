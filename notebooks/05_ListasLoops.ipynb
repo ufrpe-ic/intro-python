{
 "cells": [
  {
   "cell_type": "markdown",
   "metadata": {},
   "source": [
    "# Soma\n",
    "Podemos obter a soma dos elementos de uma lista de números chamando a função sum()"
   ]
  },
  {
   "cell_type": "code",
   "execution_count": 2,
   "metadata": {},
   "outputs": [
    {
     "data": {
      "text/plain": [
       "152.6"
      ]
     },
     "execution_count": 2,
     "metadata": {},
     "output_type": "execute_result"
    }
   ],
   "source": [
    "temperaturas  = [35, 37.8, 40, 39.8]\n",
    "sum(temperaturas)"
   ]
  },
  {
   "cell_type": "markdown",
   "metadata": {},
   "source": [
    "# min e max da lista\n",
    "\n",
    "- max(): O método max retorna o elemento da lista com o valor máximo.\n",
    "- min(): O método min retorna o elemento da lista com o valor mínimo."
   ]
  },
  {
   "cell_type": "code",
   "execution_count": 3,
   "metadata": {
    "scrolled": true
   },
   "outputs": [
    {
     "data": {
      "text/plain": [
       "35"
      ]
     },
     "execution_count": 3,
     "metadata": {},
     "output_type": "execute_result"
    }
   ],
   "source": [
    "temperaturas  = [35, 37.8, 40, 39.8]\n",
    "min(temperaturas)"
   ]
  },
  {
   "cell_type": "code",
   "execution_count": 4,
   "metadata": {
    "scrolled": true
   },
   "outputs": [
    {
     "data": {
      "text/plain": [
       "40"
      ]
     },
     "execution_count": 4,
     "metadata": {},
     "output_type": "execute_result"
    }
   ],
   "source": [
    "max(temperaturas)"
   ]
  },
  {
   "cell_type": "markdown",
   "metadata": {},
   "source": [
    "# range\n",
    "A função range(n) gera uma lista de números inteiros de 0 a n-1. Para obter a lista propriamente dita, usar a função list() também"
   ]
  },
  {
   "cell_type": "code",
   "execution_count": 9,
   "metadata": {},
   "outputs": [
    {
     "data": {
      "text/plain": [
       "[0, 1, 2]"
      ]
     },
     "execution_count": 9,
     "metadata": {},
     "output_type": "execute_result"
    }
   ],
   "source": [
    "list(range(3))"
   ]
  },
  {
   "cell_type": "markdown",
   "metadata": {},
   "source": [
    "# Laço for (loops)\n",
    "Laços (*loops*) são uma das estruturas fundamentais na programação. Os loops permitem que você faça uma iteração sobre cada elemento em uma sequência, um de cada vez, e faça algo com esses elementos.\n",
    "\n",
    "*Sintaxe do loop*: os loops têm uma sintaxe muito particular no Python; Essa sintaxe é um dos recursos mais notáveis para os recém-chegados ao Python:\n",
    "```\n",
    "for *elemento* in *sequencia*: # NOTE os dois pontos no final\n",
    "    <algum código que usa *elemento*> # o bloco de código que está em loop para cada elemento\n",
    "    <mais código que usa o *elemento*> # é recuado com TAB\n",
    "\n",
    "<o código depois que o loop continua> # o final do loop é marcado simplesmente por código não-indentado\n",
    "``` \n",
    "\n",
    "Assim, o recuo (tab) é MUITO importante para o código. Isso foi feito porque uma boa prática de codificação (em quase todas as linguagens, C, FORTRAN, MATLAB) geralmente identa loops, funções, etc. Ter um recuo significativo economiza a sintaxe de loop para um código mais compacto.\n",
    "\n",
    "A maioria dos editores de texto de programação será inteligente sobre recuo e também converterá TABs em quatro espaços. Os notebooks Jupyter são inteligentes quanto a recuo e farão a coisa certa, ou seja, identificar automaticamente uma linha abaixo de uma linha com dois pontos, e converter TABs em espaços. Se você estiver em outro editor, lembre-se: TABS E ESPAÇOS NÃO MISTURAM. \n",
    "\n",
    "**Exemplo:**\n",
    "\n",
    "Percorrer uma lista de temperaturas e mostrar a diferença entre cada valor e a temperatura média:"
   ]
  },
  {
   "cell_type": "code",
   "execution_count": 11,
   "metadata": {},
   "outputs": [
    {
     "name": "stdout",
     "output_type": "stream",
     "text": [
      "temperatura média:  38.15\n",
      "-3.1499999999999986\n",
      "-0.3500000000000014\n",
      "1.8500000000000014\n",
      "1.6499999999999986\n"
     ]
    }
   ],
   "source": [
    "temperaturas  = [35, 37.8, 40, 39.8]\n",
    "\n",
    "temp_media = sum(temperaturas) / len(temperaturas)\n",
    "print('temperatura média: ', temp_media)\n",
    "for t in temperaturas:\n",
    "    print(t - temp_media)\n"
   ]
  },
  {
   "cell_type": "markdown",
   "metadata": {},
   "source": [
    "**Exercício**\n",
    "\n",
    "Modifique o exemplo anterior para informar 'MAIS QUENTE QUE A MÉDIA' ou 'MAIS FRIO QUE A MÉDIA' de acordo com o valor da diferença entre a temperatura e a média."
   ]
  },
  {
   "cell_type": "code",
   "execution_count": null,
   "metadata": {
    "collapsed": true
   },
   "outputs": [],
   "source": []
  },
  {
   "cell_type": "code",
   "execution_count": null,
   "metadata": {
    "collapsed": true
   },
   "outputs": [],
   "source": []
  }
 ],
 "metadata": {
  "kernelspec": {
   "display_name": "Python 3",
   "language": "python",
   "name": "python3"
  },
  "language_info": {
   "codemirror_mode": {
    "name": "ipython",
    "version": 3
   },
   "file_extension": ".py",
   "mimetype": "text/x-python",
   "name": "python",
   "nbconvert_exporter": "python",
   "pygments_lexer": "ipython3",
   "version": "3.6.0"
  },
  "toc": {
   "base_numbering": 1,
   "nav_menu": {},
   "number_sections": true,
   "sideBar": true,
   "skip_h1_title": false,
   "title_cell": "Table of Contents",
   "title_sidebar": "Contents",
   "toc_cell": false,
   "toc_position": {},
   "toc_section_display": true,
   "toc_window_display": false
  },
  "varInspector": {
   "cols": {
    "lenName": 16,
    "lenType": 16,
    "lenVar": 40
   },
   "kernels_config": {
    "python": {
     "delete_cmd_postfix": "",
     "delete_cmd_prefix": "del ",
     "library": "var_list.py",
     "varRefreshCmd": "print(var_dic_list())"
    },
    "r": {
     "delete_cmd_postfix": ") ",
     "delete_cmd_prefix": "rm(",
     "library": "var_list.r",
     "varRefreshCmd": "cat(var_dic_list()) "
    }
   },
   "types_to_exclude": [
    "module",
    "function",
    "builtin_function_or_method",
    "instance",
    "_Feature"
   ],
   "window_display": false
  }
 },
 "nbformat": 4,
 "nbformat_minor": 2
}
