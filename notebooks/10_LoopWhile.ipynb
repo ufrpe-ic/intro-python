{
  "nbformat": 4,
  "nbformat_minor": 0,
  "metadata": {
    "colab": {
      "name": "10_LoopWhile.ipynb",
      "version": "0.3.2",
      "provenance": [],
      "include_colab_link": true
    },
    "kernelspec": {
      "name": "python3",
      "display_name": "Python 3"
    }
  },
  "cells": [
    {
      "cell_type": "markdown",
      "metadata": {
        "id": "view-in-github",
        "colab_type": "text"
      },
      "source": [
        "[View in Colaboratory](https://colab.research.google.com/github/ufrpe-eagri-ic/aulas/blob/master/10_LoopWhile.ipynb)"
      ]
    },
    {
      "metadata": {
        "id": "YePrOKWG5hRR",
        "colab_type": "text"
      },
      "cell_type": "markdown",
      "source": [
        "# while\n",
        "\n",
        "O laço while sempre precisa de um criterio de parada\n",
        "\n",
        "**Exemplo**"
      ]
    },
    {
      "metadata": {
        "id": "7JHvG7FF5l7l",
        "colab_type": "code",
        "colab": {}
      },
      "cell_type": "code",
      "source": [
        "counter = 0\n",
        "while counter <= 6:\n",
        "    print(counter)\n",
        "    counter += 1"
      ],
      "execution_count": 0,
      "outputs": []
    },
    {
      "metadata": {
        "id": "GOONlZOf5vYJ",
        "colab_type": "text"
      },
      "cell_type": "markdown",
      "source": [
        "# while aninhado\n",
        "\n",
        "Loops while aninhados (*nested*) são ciclos **whiles** um dentro do outro."
      ]
    },
    {
      "metadata": {
        "id": "ExUuLYkS6IbA",
        "colab_type": "code",
        "colab": {}
      },
      "cell_type": "code",
      "source": [
        "i = 0\n",
        "n = 5\n",
        "while i < n:\n",
        "    j = 0\n",
        "    while j < n:\n",
        "        print(i, j)\n",
        "        j += 1\n",
        "    i += 1"
      ],
      "execution_count": 0,
      "outputs": []
    },
    {
      "metadata": {
        "id": "_kI7MHFH_O_1",
        "colab_type": "text"
      },
      "cell_type": "markdown",
      "source": [
        "# Controle de fluxo\n",
        "Existem alguns comandos que permitem controlar o fluxo de qualquer loop iterativo: **continue**, **break** e **pass**.\n",
        "\n",
        "*   **continue** interrompe a iteração atual e continua até o próximo elemento, se houver um.\n",
        "*   **break** interrompe a iteração atual e deixa o loop.\n",
        "*   **pass** faz nada, e é apenas um espaço reservado quando a sintaxe requer algum código precisa estar presente"
      ]
    },
    {
      "metadata": {
        "id": "vhiNg3lW_pRV",
        "colab_type": "code",
        "colab": {}
      },
      "cell_type": "code",
      "source": [
        "for n in range(10):\n",
        "    if n == 5:\n",
        "        continue\n",
        "    print(n)"
      ],
      "execution_count": 0,
      "outputs": []
    },
    {
      "metadata": {
        "id": "8LRTKbZP_rHf",
        "colab_type": "code",
        "colab": {}
      },
      "cell_type": "code",
      "source": [
        "# imprime todos os números até (mas não incluindo) 5 e, em seguida, interrompe o loop.\n",
        "for n in range(10):\n",
        "    print('.')\n",
        "    if n == 5:\n",
        "        break\n",
        "    print(n)\n",
        "\n",
        "print('fim')"
      ],
      "execution_count": 0,
      "outputs": []
    },
    {
      "metadata": {
        "id": "IuMfnHMH_8YD",
        "colab_type": "code",
        "colab": {}
      },
      "cell_type": "code",
      "source": [
        "temp = ''\n",
        "while(True):\n",
        "  entrada = input('digite qualquer coisa, ou x para parar: ')\n",
        "  if entrada == 'x':\n",
        "    break\n",
        "  else:\n",
        "    continue\n",
        "    \n",
        "print('você digitou x, FIM')"
      ],
      "execution_count": 0,
      "outputs": []
    },
    {
      "metadata": {
        "id": "_8wIZ-5z_8wQ",
        "colab_type": "code",
        "colab": {}
      },
      "cell_type": "code",
      "source": [
        "# exemplo do uso de 'pass'\n",
        "x = 2\n",
        "if x == 1:\n",
        "    pass        \n",
        "elif x == 2:\n",
        "    print(x)"
      ],
      "execution_count": 0,
      "outputs": []
    },
    {
      "metadata": {
        "id": "XXofsBJZ85gd",
        "colab_type": "text"
      },
      "cell_type": "markdown",
      "source": [
        "## Exercícios:\n",
        "Faça um programa que calcule o fatorial de um número inteiro fornecido pelo usuário. \n",
        "Exemplo: \n",
        "  ```\n",
        "  >>> fatorial(5)\n",
        "  >>> 120\n",
        "  ```"
      ]
    },
    {
      "metadata": {
        "id": "smoiXXIl8nAD",
        "colab_type": "code",
        "colab": {}
      },
      "cell_type": "code",
      "source": [
        ""
      ],
      "execution_count": 0,
      "outputs": []
    },
    {
      "metadata": {
        "id": "RM9l_el59EgX",
        "colab_type": "text"
      },
      "cell_type": "markdown",
      "source": [
        "Faça um programa que peça uma nota, entre zero e dez. Mostre uma mensagem caso o valor seja inválido e continue pedindo até que o usuário informe um valor válido."
      ]
    },
    {
      "metadata": {
        "id": "b9txSCQy9Gfs",
        "colab_type": "code",
        "colab": {}
      },
      "cell_type": "code",
      "source": [
        ""
      ],
      "execution_count": 0,
      "outputs": []
    },
    {
      "metadata": {
        "id": "T6moOK6W9LHF",
        "colab_type": "text"
      },
      "cell_type": "markdown",
      "source": [
        "Faça um programa que leia um nome de usuário e a sua senha e não aceite a senha igual ao nome do usuário, mostrando uma mensagem de erro e voltando a pedir as informações"
      ]
    },
    {
      "metadata": {
        "id": "N_avDOmo9L6p",
        "colab_type": "code",
        "colab": {}
      },
      "cell_type": "code",
      "source": [
        ""
      ],
      "execution_count": 0,
      "outputs": []
    }
  ]
}