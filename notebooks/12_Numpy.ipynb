{
  "nbformat": 4,
  "nbformat_minor": 0,
  "metadata": {
    "colab": {
      "name": "12_Numpy.ipynb",
      "version": "0.3.2",
      "provenance": [],
      "include_colab_link": true
    },
    "kernelspec": {
      "display_name": "Python 3",
      "language": "python",
      "name": "python3"
    }
  },
  "cells": [
    {
      "cell_type": "markdown",
      "metadata": {
        "id": "view-in-github",
        "colab_type": "text"
      },
      "source": [
        "<a href=\"https://colab.research.google.com/github/ufrpe-eagri-ic/aulas/blob/master/12_Numpy.ipynb\" target=\"_parent\"><img src=\"https://colab.research.google.com/assets/colab-badge.svg\" alt=\"Open In Colab\"/></a>"
      ]
    },
    {
      "metadata": {
        "id": "IkO7iJNB9Ec-",
        "colab_type": "text"
      },
      "cell_type": "markdown",
      "source": [
        "# Modulo Numpy\n",
        "***"
      ]
    },
    {
      "metadata": {
        "id": "jboE4_Yd9EdA",
        "colab_type": "text"
      },
      "cell_type": "markdown",
      "source": [
        "Numpy (http://www.numpy.org/) é um módulo fundamental para trabalhar com a computação científica em Python. Este módulo fornece um array multidimensional e diversas ferramentas para trabalhar com estes arrays. Entre as características do módulo Numpy, estão:\n",
        "\n",
        "* Objeto de array multidimensional;\n",
        "* Ferramentas de álgebra linear;\n",
        "* Ferramentas de Transformada de Fourier;\n",
        "* Ferramentas de geração de números aleatórios.\n",
        "\n",
        "Para utilizar o módulo Numpy, basta importá-lo. Neste notebook, o Numpy será importado sempre da seguinte maneira:\n",
        "\n",
        "```py\n",
        "import numpy\n",
        "```\n",
        "\n",
        "Array é uma sequência de elementos do mesmo tipo, formando um conjunto n-dimensional. A forma do array pode ser visualizada através da função shape(), que retorna uma tupla com o tamanho do array em cada dimensão. Os arrays podem ser inicializados com listas e seus elementos podem ser acessados com colchetes.\n",
        "\n",
        "Um array com uma dimensão tem somente um colchete [] com duas dimensões dois colchetes [[], []] e por ai vai.\n",
        "\n",
        "Consulta: https://docs.scipy.org/doc/numpy/reference/\n",
        "\n",
        "Instalação:\n",
        "\n",
        "```\n",
        "pip install numpy\n",
        "```"
      ]
    },
    {
      "metadata": {
        "id": "csLXDn1G9EdB",
        "colab_type": "text"
      },
      "cell_type": "markdown",
      "source": [
        "***"
      ]
    },
    {
      "metadata": {
        "id": "MWVp6ICl9EdC",
        "colab_type": "text"
      },
      "cell_type": "markdown",
      "source": [
        "# SciPy\n",
        "\n",
        "O SciPy (https://scipy.org/) é um módulo de algoritmos e ferramentas matemáticas feito para trabalhar com os array do Numpy em Python. Algumas as principais funções do SciPy é trabalhar com:\n",
        "\n",
        "* Álgebra Linear;\n",
        "* Estatística;\n",
        "* Problemas de Otimização;\n",
        "* Operações com Matrizes Esparsas;\n",
        "* Processamento de Sinais."
      ]
    },
    {
      "metadata": {
        "id": "QCT4mwYS9EdD",
        "colab_type": "text"
      },
      "cell_type": "markdown",
      "source": [
        "***\n",
        "### Exemplos\n",
        "***"
      ]
    },
    {
      "metadata": {
        "id": "KxLICnWJ9EdD",
        "colab_type": "code",
        "colab": {}
      },
      "cell_type": "code",
      "source": [
        "# Importa o modulo numpy\n",
        "import numpy"
      ],
      "execution_count": 0,
      "outputs": []
    },
    {
      "metadata": {
        "collapsed": true,
        "id": "h-6KZihv9EdI",
        "colab_type": "text"
      },
      "cell_type": "markdown",
      "source": [
        "***"
      ]
    },
    {
      "metadata": {
        "id": "YNRV52Me9EdI",
        "colab_type": "code",
        "colab": {
          "base_uri": "https://localhost:8080/",
          "height": 34
        },
        "outputId": "49f58ab7-9255-4160-d548-ad4eb6fcaaf0"
      },
      "cell_type": "code",
      "source": [
        "# Criar uma lista\n",
        "my_list = [1, 2, 3]\n",
        "print(my_list)"
      ],
      "execution_count": 5,
      "outputs": [
        {
          "output_type": "stream",
          "text": [
            "[1, 2, 3]\n"
          ],
          "name": "stdout"
        }
      ]
    },
    {
      "metadata": {
        "id": "UklmNz7A9EdO",
        "colab_type": "text"
      },
      "cell_type": "markdown",
      "source": [
        "***"
      ]
    },
    {
      "metadata": {
        "id": "gSmAYzKT9EdQ",
        "colab_type": "code",
        "colab": {
          "base_uri": "https://localhost:8080/",
          "height": 34
        },
        "outputId": "69937d09-ea5e-4467-ae34-28e2daa9e866"
      },
      "cell_type": "code",
      "source": [
        "# Vamo através do numpy criar um array unidimensional usando a lista\n",
        "array = numpy.array(my_list)\n",
        "print(array)"
      ],
      "execution_count": 6,
      "outputs": [
        {
          "output_type": "stream",
          "text": [
            "[1 2 3]\n"
          ],
          "name": "stdout"
        }
      ]
    },
    {
      "metadata": {
        "id": "KMOXNUHL9EdT",
        "colab_type": "text"
      },
      "cell_type": "markdown",
      "source": [
        "***"
      ]
    },
    {
      "metadata": {
        "id": "AFtgYm0W9EdV",
        "colab_type": "code",
        "colab": {
          "base_uri": "https://localhost:8080/",
          "height": 34
        },
        "outputId": "4488259f-3429-42aa-a481-58ea34ada7e6"
      },
      "cell_type": "code",
      "source": [
        "# Visualizando a forma do array\n",
        "print(array.shape)"
      ],
      "execution_count": 7,
      "outputs": [
        {
          "output_type": "stream",
          "text": [
            "(3,)\n"
          ],
          "name": "stdout"
        }
      ]
    },
    {
      "metadata": {
        "id": "ElnZLMYH9EdZ",
        "colab_type": "text"
      },
      "cell_type": "markdown",
      "source": [
        "***"
      ]
    },
    {
      "metadata": {
        "id": "R6ZD3Kw89EdZ",
        "colab_type": "code",
        "colab": {
          "base_uri": "https://localhost:8080/",
          "height": 34
        },
        "outputId": "0970742b-ca33-4e02-8a7c-012631aa6212"
      },
      "cell_type": "code",
      "source": [
        "# Visualizando o tipo de dados do array\n",
        "# No caso é um array de interios de 64 bits\n",
        "print(array.dtype)"
      ],
      "execution_count": 8,
      "outputs": [
        {
          "output_type": "stream",
          "text": [
            "int64\n"
          ],
          "name": "stdout"
        }
      ]
    },
    {
      "metadata": {
        "id": "0g22xEhO9Ede",
        "colab_type": "text"
      },
      "cell_type": "markdown",
      "source": [
        "***"
      ]
    },
    {
      "metadata": {
        "id": "QxNG1des9Edf",
        "colab_type": "code",
        "colab": {
          "base_uri": "https://localhost:8080/",
          "height": 34
        },
        "outputId": "f3939e39-9d46-40d5-9eac-a4f0ae18f41e"
      },
      "cell_type": "code",
      "source": [
        "# Acessando elementos individuais do array\n",
        "print(array[0], array[1], array[2])"
      ],
      "execution_count": 9,
      "outputs": [
        {
          "output_type": "stream",
          "text": [
            "1 2 3\n"
          ],
          "name": "stdout"
        }
      ]
    },
    {
      "metadata": {
        "id": "1LogL68b9Edi",
        "colab_type": "text"
      },
      "cell_type": "markdown",
      "source": [
        "***"
      ]
    },
    {
      "metadata": {
        "id": "3px58eeN9Edj",
        "colab_type": "code",
        "colab": {
          "base_uri": "https://localhost:8080/",
          "height": 34
        },
        "outputId": "f25b07d7-0dfe-46f0-face-60e771bd3ce4"
      },
      "cell_type": "code",
      "source": [
        "# Modificando o valor de um elemento do array\n",
        "array[1] = 10\n",
        "print(array)"
      ],
      "execution_count": 10,
      "outputs": [
        {
          "output_type": "stream",
          "text": [
            "[ 1 10  3]\n"
          ],
          "name": "stdout"
        }
      ]
    },
    {
      "metadata": {
        "id": "KvZG9QyD9Edo",
        "colab_type": "text"
      },
      "cell_type": "markdown",
      "source": [
        "***"
      ]
    },
    {
      "metadata": {
        "id": "hjorzlHB9Edp",
        "colab_type": "code",
        "colab": {
          "base_uri": "https://localhost:8080/",
          "height": 52
        },
        "outputId": "3d4a770d-db5b-43c6-b266-0eb3c23d18c1"
      },
      "cell_type": "code",
      "source": [
        "# Pegar o maior e o menor valor e indice do array\n",
        "print(\"Maior valor:\", array.max(), \"está no indice\", array.argmax())\n",
        "print(\"Menor valor:\", array.min(), \"está no indice\", array.argmin())"
      ],
      "execution_count": 11,
      "outputs": [
        {
          "output_type": "stream",
          "text": [
            "Maior valor: 10 está no indice 1\n",
            "Menor valor: 1 está no indice 0\n"
          ],
          "name": "stdout"
        }
      ]
    },
    {
      "metadata": {
        "id": "eVOYBiow9Edt",
        "colab_type": "text"
      },
      "cell_type": "markdown",
      "source": [
        "***"
      ]
    },
    {
      "metadata": {
        "id": "LjDLYtSa9Edu",
        "colab_type": "code",
        "colab": {
          "base_uri": "https://localhost:8080/",
          "height": 70
        },
        "outputId": "5016e848-99c5-4f47-a2ae-10a1691966f9"
      },
      "cell_type": "code",
      "source": [
        "# Vamo criar uma matriz utilizando várias listas\n",
        "matrix = numpy.array([[1, 2, 3], [4, 5, 6], [7, 8, 9]])\n",
        "print(matrix)"
      ],
      "execution_count": 12,
      "outputs": [
        {
          "output_type": "stream",
          "text": [
            "[[1 2 3]\n",
            " [4 5 6]\n",
            " [7 8 9]]\n"
          ],
          "name": "stdout"
        }
      ]
    },
    {
      "metadata": {
        "id": "CMPeTC7s9Edx",
        "colab_type": "text"
      },
      "cell_type": "markdown",
      "source": [
        "***"
      ]
    },
    {
      "metadata": {
        "id": "FI--4rIJ9Edx",
        "colab_type": "code",
        "colab": {
          "base_uri": "https://localhost:8080/",
          "height": 34
        },
        "outputId": "5c84f570-d063-45a6-d11e-518aadde3afc"
      },
      "cell_type": "code",
      "source": [
        "# Visualizando a forma da matriz\n",
        "print(matrix.shape)"
      ],
      "execution_count": 13,
      "outputs": [
        {
          "output_type": "stream",
          "text": [
            "(3, 3)\n"
          ],
          "name": "stdout"
        }
      ]
    },
    {
      "metadata": {
        "id": "ENlTUOdk9Yxr",
        "colab_type": "code",
        "colab": {
          "base_uri": "https://localhost:8080/",
          "height": 34
        },
        "outputId": "8ce15c27-c8a9-46cf-fce7-f30f4c1c6458"
      },
      "cell_type": "code",
      "source": [
        "# Visualizando o número de elmentos da matriz/array\n",
        "matrix.size          "
      ],
      "execution_count": 14,
      "outputs": [
        {
          "output_type": "execute_result",
          "data": {
            "text/plain": [
              "9"
            ]
          },
          "metadata": {
            "tags": []
          },
          "execution_count": 14
        }
      ]
    },
    {
      "metadata": {
        "id": "NAicPtCT9Ed2",
        "colab_type": "text"
      },
      "cell_type": "markdown",
      "source": [
        "***"
      ]
    },
    {
      "metadata": {
        "id": "7e2w6DpA9Ed2",
        "colab_type": "code",
        "colab": {
          "base_uri": "https://localhost:8080/",
          "height": 34
        },
        "outputId": "1a2155c3-0607-4f2e-b361-d553c761e2c5"
      },
      "cell_type": "code",
      "source": [
        "# Visualizando o tipo de dados da matriz\n",
        "# No caso é uma matriz de floats de 64 bits\n",
        "print(matrix.dtype)"
      ],
      "execution_count": 15,
      "outputs": [
        {
          "output_type": "stream",
          "text": [
            "int64\n"
          ],
          "name": "stdout"
        }
      ]
    },
    {
      "metadata": {
        "id": "5NlMmikX9Ed7",
        "colab_type": "text"
      },
      "cell_type": "markdown",
      "source": [
        "***"
      ]
    },
    {
      "metadata": {
        "id": "MRpahnmD9Ed7",
        "colab_type": "code",
        "colab": {
          "base_uri": "https://localhost:8080/",
          "height": 52
        },
        "outputId": "5af30c0f-6ef5-489a-d049-9062bb4da31c"
      },
      "cell_type": "code",
      "source": [
        "# Acessando elementos individuais da matriz\n",
        "print(matrix[0][0], matrix[1][1], matrix[2][2])\n",
        "print(matrix[0, 0], matrix[1, 1], matrix[2, 2])"
      ],
      "execution_count": 16,
      "outputs": [
        {
          "output_type": "stream",
          "text": [
            "1 5 9\n",
            "1 5 9\n"
          ],
          "name": "stdout"
        }
      ]
    },
    {
      "metadata": {
        "id": "jH3ZqgSh9wBQ",
        "colab_type": "text"
      },
      "cell_type": "markdown",
      "source": [
        "# Métodos para ARRAYS"
      ]
    },
    {
      "metadata": {
        "id": "MDxyGYnX9pQU",
        "colab_type": "code",
        "colab": {
          "base_uri": "https://localhost:8080/",
          "height": 34
        },
        "outputId": "808f77b3-e87e-48b3-b10c-ae360d49c634"
      },
      "cell_type": "code",
      "source": [
        "# média\n",
        "arr = numpy.array([[1., 2., 3.,], [4., 5., 6.]]) \n",
        "arr.mean()"
      ],
      "execution_count": 18,
      "outputs": [
        {
          "output_type": "execute_result",
          "data": {
            "text/plain": [
              "3.5"
            ]
          },
          "metadata": {
            "tags": []
          },
          "execution_count": 18
        }
      ]
    },
    {
      "metadata": {
        "id": "S-tJoLgH95Ni",
        "colab_type": "code",
        "colab": {
          "base_uri": "https://localhost:8080/",
          "height": 34
        },
        "outputId": "1c452745-5f2b-43f6-e71c-98a225d0dc6a"
      },
      "cell_type": "code",
      "source": [
        "# definindo o axis\n",
        "arr.mean(axis=0)  # colunas\n"
      ],
      "execution_count": 19,
      "outputs": [
        {
          "output_type": "execute_result",
          "data": {
            "text/plain": [
              "array([2.5, 3.5, 4.5])"
            ]
          },
          "metadata": {
            "tags": []
          },
          "execution_count": 19
        }
      ]
    },
    {
      "metadata": {
        "id": "21j_ZBPo-BEO",
        "colab_type": "code",
        "colab": {
          "base_uri": "https://localhost:8080/",
          "height": 34
        },
        "outputId": "0bd80bdb-39f0-462a-ddb1-f3cd32b124cf"
      },
      "cell_type": "code",
      "source": [
        "arr.mean(axis=1)  # linhas\n"
      ],
      "execution_count": 22,
      "outputs": [
        {
          "output_type": "execute_result",
          "data": {
            "text/plain": [
              "array([2., 5.])"
            ]
          },
          "metadata": {
            "tags": []
          },
          "execution_count": 22
        }
      ]
    },
    {
      "metadata": {
        "id": "ywE5K6Te-dZZ",
        "colab_type": "text"
      },
      "cell_type": "markdown",
      "source": [
        "Você pode encontrar o mínimo e o máximo de um array com os métodos min e max. Às vezes é útil encontrar os índices desses mínimos e máximos. Para isso use argmin e argmax, como"
      ]
    },
    {
      "metadata": {
        "id": "_On9oZwU-DJg",
        "colab_type": "code",
        "colab": {}
      },
      "cell_type": "code",
      "source": [
        "x = np.random.rand(10)\n",
        "imax = x.argmax()\n",
        "print(imax, x[imax], x.max())"
      ],
      "execution_count": 0,
      "outputs": []
    },
    {
      "metadata": {
        "id": "1WdEfsZA_JW5",
        "colab_type": "text"
      },
      "cell_type": "markdown",
      "source": [
        "Há também várias maneiras de gerar sequências de números.\n",
        "\n",
        "  - np.arange ([start,] stop [[, stride]]) Cria uma sequência de números, semelhante ao intervalo\n",
        "  - np.linspace (min, max, length) Cria uma série uniforme de comprimento especificado entre min e max, inclusive.\n",
        "  - np.logspace (minpow, maxpow, length) Cria uma série uniforme no espaço de logs de tamanho especificado entre 10 ** minpow e 10 ** maxpow, inclusive."
      ]
    },
    {
      "metadata": {
        "id": "QTJSHz0t_WOW",
        "colab_type": "code",
        "colab": {
          "base_uri": "https://localhost:8080/",
          "height": 34
        },
        "outputId": "658bc2ab-1072-49cf-e301-18df4a7959f3"
      },
      "cell_type": "code",
      "source": [
        "import numpy as np\n",
        "np.arange(10.)"
      ],
      "execution_count": 25,
      "outputs": [
        {
          "output_type": "execute_result",
          "data": {
            "text/plain": [
              "array([0., 1., 2., 3., 4., 5., 6., 7., 8., 9.])"
            ]
          },
          "metadata": {
            "tags": []
          },
          "execution_count": 25
        }
      ]
    },
    {
      "metadata": {
        "id": "uBtlsOz7_WDe",
        "colab_type": "code",
        "colab": {
          "base_uri": "https://localhost:8080/",
          "height": 168
        },
        "outputId": "25000246-8867-4c37-ca95-2501b00756ac"
      },
      "cell_type": "code",
      "source": [
        "array([ 0.,  1.,  2.,  3.,  4.,  5.,  6.,  7.,  8.,  9.])"
      ],
      "execution_count": 26,
      "outputs": [
        {
          "output_type": "error",
          "ename": "TypeError",
          "evalue": "ignored",
          "traceback": [
            "\u001b[0;31m---------------------------------------------------------------------------\u001b[0m",
            "\u001b[0;31mTypeError\u001b[0m                                 Traceback (most recent call last)",
            "\u001b[0;32m<ipython-input-26-462fadc1b701>\u001b[0m in \u001b[0;36m<module>\u001b[0;34m()\u001b[0m\n\u001b[0;32m----> 1\u001b[0;31m \u001b[0marray\u001b[0m\u001b[0;34m(\u001b[0m\u001b[0;34m[\u001b[0m \u001b[0;36m0.\u001b[0m\u001b[0;34m,\u001b[0m  \u001b[0;36m1.\u001b[0m\u001b[0;34m,\u001b[0m  \u001b[0;36m2.\u001b[0m\u001b[0;34m,\u001b[0m  \u001b[0;36m3.\u001b[0m\u001b[0;34m,\u001b[0m  \u001b[0;36m4.\u001b[0m\u001b[0;34m,\u001b[0m  \u001b[0;36m5.\u001b[0m\u001b[0;34m,\u001b[0m  \u001b[0;36m6.\u001b[0m\u001b[0;34m,\u001b[0m  \u001b[0;36m7.\u001b[0m\u001b[0;34m,\u001b[0m  \u001b[0;36m8.\u001b[0m\u001b[0;34m,\u001b[0m  \u001b[0;36m9.\u001b[0m\u001b[0;34m]\u001b[0m\u001b[0;34m)\u001b[0m\u001b[0;34m\u001b[0m\u001b[0m\n\u001b[0m",
            "\u001b[0;31mTypeError\u001b[0m: 'numpy.ndarray' object is not callable"
          ]
        }
      ]
    },
    {
      "metadata": {
        "id": "Qume6T9R_V2P",
        "colab_type": "code",
        "colab": {}
      },
      "cell_type": "code",
      "source": [
        ""
      ],
      "execution_count": 0,
      "outputs": []
    },
    {
      "metadata": {
        "id": "nlpMEA-9-jPG",
        "colab_type": "text"
      },
      "cell_type": "markdown",
      "source": [
        "## Criação de arrays padrão"
      ]
    },
    {
      "metadata": {
        "id": "_V0tQmSv-0xK",
        "colab_type": "code",
        "colab": {}
      },
      "cell_type": "code",
      "source": [
        "]:\n",
        "o = np.ones((3, 4, 5))    # The argument is a shape, so is a tuple with the length of each dimension as an argument\n",
        "b = np.ones((2, 3), dtype=np.bool)\n",
        "z = np.zeros((2, 3), dtype=np.float32)\n"
      ],
      "execution_count": 0,
      "outputs": []
    }
  ]
}