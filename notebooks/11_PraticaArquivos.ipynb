{
  "nbformat": 4,
  "nbformat_minor": 0,
  "metadata": {
    "colab": {
      "name": "11_PraticaArquivos.ipynb",
      "version": "0.3.2",
      "provenance": [],
      "include_colab_link": true
    },
    "kernelspec": {
      "name": "python3",
      "display_name": "Python 3"
    }
  },
  "cells": [
    {
      "cell_type": "markdown",
      "metadata": {
        "id": "view-in-github",
        "colab_type": "text"
      },
      "source": [
        "<a href=\"https://colab.research.google.com/github/ufrpe-eagri-ic/aulas/blob/master/11_PraticaArquivos.ipynb\" target=\"_parent\"><img src=\"https://colab.research.google.com/assets/colab-badge.svg\" alt=\"Open In Colab\"/></a>"
      ]
    },
    {
      "metadata": {
        "id": "NhcDob1_1xwu",
        "colab_type": "text"
      },
      "cell_type": "markdown",
      "source": [
        "# Revisão: analisando temperaturas\n",
        "\n",
        "## Objetivo\n",
        "Esta prática destina-se a relembrar as construções comuns em problemas que envolvem o processamento de grandes conjuntos de dados.\n",
        "Neste problema, seu objetivo é classificar as temperaturas diárias armazenadas na lista de temperaturas em quatro classes diferentes:\n",
        "\n",
        "\n",
        "* Frio ==> temperaturas abaixo de +2 graus (Celsius)\n",
        "* Confortável ==> temperaturas mais quentes ou iguais a +2 graus e até +15 graus (Celsius)\n",
        "* Quente ==> temperaturas mais quentes ou iguais a +15 graus (Celsius)\n",
        "\n",
        "Para resolver esse problema, você deve modificar e preencher as partes ausentes nas seguintes células. No total, existem três tarefas que você deve resolver de acordo com as instruções. "
      ]
    },
    {
      "metadata": {
        "id": "LT7vznRsAZp1",
        "colab_type": "text"
      },
      "cell_type": "markdown",
      "source": [
        "# Lendo os dados\n",
        "\n",
        "Leia o arquivo `temperaturas.csv`, e separe os valores (função `split`)"
      ]
    },
    {
      "metadata": {
        "id": "wYlbibggAb0M",
        "colab_type": "code",
        "colab": {}
      },
      "cell_type": "code",
      "source": [
        ""
      ],
      "execution_count": 0,
      "outputs": []
    },
    {
      "metadata": {
        "id": "1tLfyP4qA1mp",
        "colab_type": "text"
      },
      "cell_type": "markdown",
      "source": [
        "# Categorizando\n",
        "\n",
        "Crie quatro listas vazias para diferentes classes de temperatura, ou seja:\n",
        "\n",
        "* frio\n",
        "* confortável\n",
        "* quente\n",
        "\n",
        "Percorra as temperaturas, e as insira na lista adequada."
      ]
    },
    {
      "metadata": {
        "id": "ahTtaAe4AflY",
        "colab_type": "code",
        "colab": {}
      },
      "cell_type": "code",
      "source": [
        ""
      ],
      "execution_count": 0,
      "outputs": []
    },
    {
      "metadata": {
        "id": "0j9TeuoNBb8p",
        "colab_type": "text"
      },
      "cell_type": "markdown",
      "source": [
        "# Reponda as perguntas:\n",
        "\n",
        "(1) Quantas vezes a temperatura foi quente no período analisado?"
      ]
    },
    {
      "metadata": {
        "id": "mxGfIe12BjLJ",
        "colab_type": "code",
        "colab": {}
      },
      "cell_type": "code",
      "source": [
        ""
      ],
      "execution_count": 0,
      "outputs": []
    },
    {
      "metadata": {
        "id": "SYuci-b0Bjpu",
        "colab_type": "text"
      },
      "cell_type": "markdown",
      "source": [
        "(2) Qual a temperatura média dos dias considerados quentes, frios e confortáveis?"
      ]
    },
    {
      "metadata": {
        "id": "PdvXYXUMBrZp",
        "colab_type": "code",
        "colab": {}
      },
      "cell_type": "code",
      "source": [
        ""
      ],
      "execution_count": 0,
      "outputs": []
    },
    {
      "metadata": {
        "id": "xVZ4kiS8BsrB",
        "colab_type": "text"
      },
      "cell_type": "markdown",
      "source": [
        "(3) Qual a temperatura mais quente e qual a mais fria?"
      ]
    },
    {
      "metadata": {
        "id": "syM-0UF1BwxO",
        "colab_type": "code",
        "colab": {}
      },
      "cell_type": "code",
      "source": [
        ""
      ],
      "execution_count": 0,
      "outputs": []
    }
  ]
}