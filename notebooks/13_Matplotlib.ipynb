{
  "nbformat": 4,
  "nbformat_minor": 0,
  "metadata": {
    "colab": {
      "name": "13_Matplotlib.ipynb",
      "version": "0.3.2",
      "provenance": [],
      "include_colab_link": true
    },
    "kernelspec": {
      "name": "python3",
      "display_name": "Python 3"
    }
  },
  "cells": [
    {
      "cell_type": "markdown",
      "metadata": {
        "id": "view-in-github",
        "colab_type": "text"
      },
      "source": [
        "<a href=\"https://colab.research.google.com/github/ufrpe-eagri-ic/aulas/blob/master/13_Matplotlib.ipynb\" target=\"_parent\"><img src=\"https://colab.research.google.com/assets/colab-badge.svg\" alt=\"Open In Colab\"/></a>"
      ]
    },
    {
      "metadata": {
        "id": "uKB_xWf-dve-",
        "colab_type": "text"
      },
      "cell_type": "markdown",
      "source": [
        "#Introdução ao Matplotlib\n",
        "\n",
        "O Matplotlib (http://matplotlib.org/) é um módulo para a confecção de gráficos em Python. O Matplotlib inclui diversos outros módulos, neste notebook será  apresentado o matplotlib.pyplot. Este módulo funciona muito bem com o módulo Numpy e sua sintaxe é bem próxima ao MatLab. \n",
        "\n",
        "### Instalando:\n",
        "\n"
      ]
    },
    {
      "metadata": {
        "id": "deffDymFd_3v",
        "colab_type": "code",
        "colab": {}
      },
      "cell_type": "code",
      "source": [
        "!pip install matplotlib\n",
        "!pip install numpy"
      ],
      "execution_count": 0,
      "outputs": []
    },
    {
      "metadata": {
        "id": "QmS7NrqYeAHt",
        "colab_type": "text"
      },
      "cell_type": "markdown",
      "source": [
        "### Importando:"
      ]
    },
    {
      "metadata": {
        "id": "M0OqessLduFc",
        "colab_type": "code",
        "colab": {}
      },
      "cell_type": "code",
      "source": [
        "import matplotlib.pyplot as plt\n",
        "%matplotlib inline"
      ],
      "execution_count": 0,
      "outputs": []
    },
    {
      "metadata": {
        "id": "bz1F4ZmFeBBa",
        "colab_type": "text"
      },
      "cell_type": "markdown",
      "source": [
        "\n",
        "O segundo comando foi necessário para habilitar a geração de gráfico no ambiente Jupyter Notebook.\n",
        "\n",
        "Para confeccionar gráficos, basta criar dois arrays, um para o eixo das abcsissas ou eixo X e outro para o eixo das coordenadas ou eixo Y. Então utiliza-se a função plot() para gerar o gráfico e a função show() para mostrá-lo, conforme os exemplos abaixo."
      ]
    },
    {
      "metadata": {
        "id": "ANaOaTyMeMOK",
        "colab_type": "code",
        "colab": {}
      },
      "cell_type": "code",
      "source": [
        "import numpy\n",
        "# Criar um array igualmente espaçado\n",
        "x = numpy.linspace(-5, 5, 100)\n",
        "y = x ** 3"
      ],
      "execution_count": 0,
      "outputs": []
    },
    {
      "metadata": {
        "id": "ypLc31RZg1a5",
        "colab_type": "code",
        "colab": {}
      },
      "cell_type": "code",
      "source": [
        "# visualizando os dados\n",
        "print(y[0:5])\n",
        "print(x[0:5])"
      ],
      "execution_count": 0,
      "outputs": []
    },
    {
      "metadata": {
        "id": "50ijrXu5eRUG",
        "colab_type": "code",
        "colab": {}
      },
      "cell_type": "code",
      "source": [
        "# Vamos plotar o gráfico usando x e y, a cor e o tipo de linha\n",
        "plt.plot(x, y, 'g--')\n",
        "\n",
        "# Criar as labels, titulosm legendas e grid\n",
        "plt.xlabel(\"X Label\")\n",
        "plt.ylabel(\"Y Label\")\n",
        "plt.title(\"Título\")\n",
        "plt.grid(True)\n",
        "plt.legend(['y = $x^3$'])\n",
        "\n",
        "# Mostrar o gráfico\n",
        "plt.show()"
      ],
      "execution_count": 0,
      "outputs": []
    },
    {
      "metadata": {
        "id": "VUWboB36eb75",
        "colab_type": "code",
        "colab": {}
      },
      "cell_type": "code",
      "source": [
        "# Declarando arrays para a confecção dos gráficos\n",
        "x = numpy.linspace(-3, 3, 100)\n",
        "y1 = numpy.power(x, 2)\n",
        "y2 = numpy.power(x, 3)\n",
        "\n",
        "# Gerando os gráficos\n",
        "plt.plot(x, y1)\n",
        "plt.plot(x, y2)\n",
        "plt.title('Meu primeiro gráfico')\n",
        "plt.xlabel('eixo x: x')\n",
        "plt.ylabel('eixo y: f(x)')\n",
        "plt.grid(True)\n",
        "plt.legend(['y = $x^2$', 'y = $x^3$'])\n",
        "\n",
        "# Mostrando o gráfico\n",
        "plt.show()"
      ],
      "execution_count": 0,
      "outputs": []
    },
    {
      "metadata": {
        "id": "9K46ps4Nkhm9",
        "colab_type": "text"
      },
      "cell_type": "markdown",
      "source": [
        "---\n",
        "## Exercício\n",
        "Crie um gráfico para a seguinte equação:\n",
        "$f(x) = x^4+3^x-2x-4$ para $-4 <= x <= +4$"
      ]
    },
    {
      "metadata": {
        "id": "x-7vDaG_kjm5",
        "colab_type": "code",
        "colab": {}
      },
      "cell_type": "code",
      "source": [
        ""
      ],
      "execution_count": 0,
      "outputs": []
    },
    {
      "metadata": {
        "id": "_V0x1mqFfAOi",
        "colab_type": "text"
      },
      "cell_type": "markdown",
      "source": [
        "## Subplots"
      ]
    },
    {
      "metadata": {
        "id": "Eui2VY8yfCtG",
        "colab_type": "code",
        "colab": {}
      },
      "cell_type": "code",
      "source": [
        "# subplot \n",
        "fig = plt.figure(figsize=(16, 3))\n",
        "\n",
        "ax1 = fig.add_subplot(1, 2, 1)  # primeiro subplot\n",
        "ax1.set_xlabel('x axis 1', fontsize=24, color='r')\n",
        "ax1.set_ylabel('y axis 1')\n",
        "ax1.set_title('Title 1')\n",
        "\n",
        "ax2 = fig.add_subplot(1, 2, 2)  # segundo subplot\n",
        "ax2.set_xlabel('x axis 2', fontsize=24, color='orange')\n",
        "ax2.set_ylabel('y axis 2')\n",
        "ax2.set_title('Title 2')\n",
        "ax2.set_xlim(0, 0.5)\n",
        "ax2.set_ylim(0, 2)\n",
        "\n",
        "fig.suptitle('Overall title', fontsize=18, color=(0.3, 0.1, 0.8, 0.5))\n",
        "fig.tight_layout()  # clean up"
      ],
      "execution_count": 0,
      "outputs": []
    },
    {
      "metadata": {
        "id": "WJ3s6pPneemi",
        "colab_type": "code",
        "colab": {}
      },
      "cell_type": "code",
      "source": [
        "# Colocar multiplos gráficos no mesmo frame.\n",
        "# Argumentos: Número de linhas, Número de colunas e Número de gráficos\n",
        "plt.subplot(1, 2, 1)\n",
        "plt.plot(x, y1)\n",
        "plt.title('Meu primeiro gráfico')\n",
        "plt.xlabel('eixo x: x')\n",
        "plt.ylabel('eixo y: f(x)')\n",
        "plt.grid(True)\n",
        "plt.legend(['y = $x^2$'])\n",
        "\n",
        "plt.subplot(1, 2, 2)\n",
        "plt.plot(x, y2)\n",
        "plt.title('Meu segundo gráfico')\n",
        "plt.xlabel('eixo x: x')\n",
        "plt.ylabel('eixo y: f(x)')\n",
        "plt.grid(True)\n",
        "plt.legend(['y = $x^3$'])\n",
        "\n",
        "# Mostrando o gráfico\n",
        "plt.show()"
      ],
      "execution_count": 0,
      "outputs": []
    },
    {
      "metadata": {
        "id": "sOXygzqSiej4",
        "colab_type": "text"
      },
      "cell_type": "markdown",
      "source": [
        "## Outros tipos de gráficos\n",
        "\n",
        "### Pizza\n"
      ]
    },
    {
      "metadata": {
        "id": "kz3JybSViizO",
        "colab_type": "code",
        "colab": {}
      },
      "cell_type": "code",
      "source": [
        "# Dados\n",
        "cursos = 'Eng. Agricola', 'Computação', 'Lic. Fisica', 'Lic. Quimica', 'Eng. Pesca', 'Gastronomia'\n",
        "popularidade = [22.2, 17.6, 8.8, 8, 7.7, 6.7]\n",
        "cores = [\"#1f77b4\", \"#ff7f0e\", \"#2ca02c\", \"#d62728\", \"#9467bd\", \"#8c564b\"]\n",
        "\n",
        "\n",
        "# Plot\n",
        "plt.pie(popularidade, labels=cursos, colors=cores,\n",
        "autopct='%1.1f%%', shadow=True, startangle=140)\n",
        "\n",
        "plt.axis('equal')\n",
        "plt.show()"
      ],
      "execution_count": 0,
      "outputs": []
    },
    {
      "metadata": {
        "id": "ldvQWuM0jOTN",
        "colab_type": "text"
      },
      "cell_type": "markdown",
      "source": [
        "### Barras"
      ]
    },
    {
      "metadata": {
        "id": "LU5YRFK5jNj2",
        "colab_type": "code",
        "colab": {}
      },
      "cell_type": "code",
      "source": [
        "# Plot\n",
        "plt.barh(cursos, popularidade)\n",
        "plt.show()"
      ],
      "execution_count": 0,
      "outputs": []
    },
    {
      "metadata": {
        "id": "6oCp5TbEkKC9",
        "colab_type": "code",
        "colab": {}
      },
      "cell_type": "code",
      "source": [
        "# Plot\n",
        "plt.bar(cursos, popularidade)\n",
        "plt.show()"
      ],
      "execution_count": 0,
      "outputs": []
    },
    {
      "metadata": {
        "id": "8LhVQ1nyhsfs",
        "colab_type": "text"
      },
      "cell_type": "markdown",
      "source": [
        "## Exercício\n",
        "\n",
        "Leia o arquivo 'temperaturas.csv', e classifique cada temperatura como:\n",
        "- Frio ==> temperaturas abaixo de +2 graus (Celsius)\n",
        "- Confortável ==> temperaturas mais quentes ou iguais a +2 graus e até +15 graus (Celsius)\n",
        "- Quente ==> temperaturas mais quentes ou iguais a +15 graus (Celsius)\n",
        "\n",
        "Em seguida, plote um gráfico de pizza com a distribuição das temperaturas entre essas três classes.\n"
      ]
    },
    {
      "metadata": {
        "id": "UXI9ujC1eg6E",
        "colab_type": "code",
        "colab": {}
      },
      "cell_type": "code",
      "source": [
        ""
      ],
      "execution_count": 0,
      "outputs": []
    }
  ]
}