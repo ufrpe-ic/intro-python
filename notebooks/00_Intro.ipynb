{
 "cells": [
  {
   "cell_type": "markdown",
   "metadata": {},
   "source": [
    "## Jupyter Notebooks\n",
    "Este formato de arquivo facilita a combinação perfeita de texto e código. O texto pode ser simples ou formatado com [Markdown](https://daringfireball.net/projects/markdown/). O código pode ser escrito em mais de 40 linguagens, incluindo Python, R e Scala. Mais importante, o código pode ser alterado quando o notebook é aberto em um servidor local (isto é, no seu computador). Alternativamente, ele pode ser visualizado simplesmente por meio de um repositório do github (como este mesmo) ou do nbviewer.\n",
    "\n",
    "## JupyterHub\n",
    "Todos vocês têm um nome de usuário e senha em um servidor que está executando um servico para usarmos em classe. Ao usar isso, poderemos evitar muitos problemas de instalação que ocorrem com o uso de diferentes sistemas operacionais, etc. Você poderá executar materiais de classe (na forma de notebooks Jupyter) por meio desse servidor por meio de seu navegador da web. bem como criar e trabalhar em trabalhos de casa. Se preferir, você é bem-vindo para executar o Python em seu próprio computador, mas você precisará fazer isso principalmente sozinho. Se você seguir esse caminho, recomendo usar o Python 3 (que usaremos na aula) e uma distribuição do [Anaconda](www.anaconda.org). Eu recomendo que todos usem esse sistema que eu configurei para você. Ele se integrará muito bem aos nossos trabalhos de casa também.\n",
    "\n",
    "Para acessar o servidor, abra seu navegador da Web e acesse http://35.190.169.64 e entre com o nome de usuário (suas iniciais) e senha (12345). Eu já o configurei para que você possa acessar materiais e criar cadernos dentro deste sistema.\n",
    "\n",
    "### Crie um novo notebook\n",
    "Inicie o seu servidor de notebook local em seu novo repositório e crie um novo notebook Jupyter a partir da página do servidor local.\n",
    "\n",
    "### Escolha a sintaxe de uma célula\n",
    "Notebooks são construídos de células. As células podem ter vários formatos internos, incluindo *código* e *Markdown* para texto. Você pode selecionar o formato desejado em um menu suspenso na parte superior.\n",
    "\n",
    "Se você quiser digitar palavras, use \"Markdown\"; Se você quiser escrever código, escolha \"código\".\n",
    "\n",
    "### Mover entre as células\n",
    "Para executar uma determinada célula, digite [shift-enter], ativo nessa célula. Você pode executar todas as células com Cell> Run all; outras variações estão disponíveis nesse menu suspenso."
   ]
  },
  {
   "cell_type": "code",
   "execution_count": 1,
   "metadata": {},
   "outputs": [
    {
     "data": {
      "text/plain": [
       "2"
      ]
     },
     "execution_count": 1,
     "metadata": {},
     "output_type": "execute_result"
    }
   ],
   "source": [
    "1+1"
   ]
  },
  {
   "cell_type": "code",
   "execution_count": null,
   "metadata": {
    "collapsed": true
   },
   "outputs": [],
   "source": []
  }
 ],
 "metadata": {
  "kernelspec": {
   "display_name": "Python 3",
   "language": "python",
   "name": "python3"
  },
  "language_info": {
   "codemirror_mode": {
    "name": "ipython",
    "version": 3
   },
   "file_extension": ".py",
   "mimetype": "text/x-python",
   "name": "python",
   "nbconvert_exporter": "python",
   "pygments_lexer": "ipython3",
   "version": "3.6.0"
  }
 },
 "nbformat": 4,
 "nbformat_minor": 2
}
